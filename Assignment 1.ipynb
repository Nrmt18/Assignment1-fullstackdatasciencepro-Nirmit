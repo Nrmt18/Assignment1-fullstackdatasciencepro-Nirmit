{
 "cells": [
  {
   "cell_type": "code",
   "execution_count": 3,
   "id": "53a04820-74c5-4265-9161-3983f9269191",
   "metadata": {},
   "outputs": [],
   "source": [
    "#Basic variable based questions "
   ]
  },
  {
   "cell_type": "code",
   "execution_count": 4,
   "id": "0e737da1-c948-417b-9069-de8624cc7cae",
   "metadata": {},
   "outputs": [
    {
     "name": "stdout",
     "output_type": "stream",
     "text": [
      "After swapping:\n",
      "x = 10\n",
      "y = 5\n"
     ]
    }
   ],
   "source": [
    "#1. Declare two variables, `x` and `y`, and assign them integer values. Swap the values of these variables without using any temporary variable.\n",
    "x = 5\n",
    "y = 10\n",
    "\n",
    "x = x + y\n",
    "y = x - y\n",
    "x = x - y \n",
    "\n",
    "\n",
    "print(\"After swapping:\")\n",
    "print(\"x =\", x)\n",
    "print(\"y =\", y)"
   ]
  },
  {
   "cell_type": "code",
   "execution_count": 5,
   "id": "582b75e1-efad-43e0-a93b-b724e0796a89",
   "metadata": {},
   "outputs": [
    {
     "name": "stdin",
     "output_type": "stream",
     "text": [
      "length: 7\n",
      "width: 5\n"
     ]
    },
    {
     "name": "stdout",
     "output_type": "stream",
     "text": [
      "35\n"
     ]
    }
   ],
   "source": [
    "#2. Create a program that calculates the area of a rectangle. Take the length and width as inputs from the user and store them in variables. Calculate and display the area.\n",
    "length = int(input(\"length:\"))\n",
    "width = int(input(\"width:\"))\n",
    "area = length * width\n",
    "print(area)"
   ]
  },
  {
   "cell_type": "code",
   "execution_count": 9,
   "id": "4d5d6ed2-462a-424d-802a-aa8166894bd7",
   "metadata": {},
   "outputs": [
    {
     "name": "stdin",
     "output_type": "stream",
     "text": [
      "tempreture in celsius: 0\n"
     ]
    },
    {
     "name": "stdout",
     "output_type": "stream",
     "text": [
      "tempreture in fahrenheit is 32.0\n"
     ]
    }
   ],
   "source": [
    "#3. Write a Python program that converts temperatures from Celsius to Fahrenheit. Take the temperature in Celsius as input, store it in a variable, convert it to Fahrenheit, and display the result.\n",
    "temp_celsius = float(input(\"tempreture in celsius:\"))\n",
    "temp_fahrenheit = ( (temp_celsius * (9/5)) + 32 )\n",
    "print(\"tempreture in fahrenheit is \" + str(temp_fahrenheit))"
   ]
  },
  {
   "cell_type": "code",
   "execution_count": 10,
   "id": "49594327-5ba9-4d37-a565-e9b2faa80ccb",
   "metadata": {},
   "outputs": [],
   "source": [
    "# String based questions"
   ]
  },
  {
   "cell_type": "code",
   "execution_count": 14,
   "id": "de34b710-28df-4be1-ad70-3e6f0369841a",
   "metadata": {},
   "outputs": [
    {
     "name": "stdin",
     "output_type": "stream",
     "text": [
      "write a string: python programming\n"
     ]
    },
    {
     "name": "stdout",
     "output_type": "stream",
     "text": [
      "the length of the string is: 18\n"
     ]
    }
   ],
   "source": [
    "#1. Write a Python program that takes a string as input and prints the length of the string.\n",
    "\n",
    "python_program = str(input(\"write a string:\"))\n",
    "print(\"the length of the string is: \" + str(len(python_program)))\n"
   ]
  },
  {
   "cell_type": "code",
   "execution_count": 17,
   "id": "5d1c8636-b5a8-4d20-a482-80a58b1364da",
   "metadata": {},
   "outputs": [
    {
     "name": "stdin",
     "output_type": "stream",
     "text": [
      "write a sentence: I want to be a Data Scientist \n"
     ]
    },
    {
     "name": "stdout",
     "output_type": "stream",
     "text": [
      "No. of vowels:  10\n"
     ]
    }
   ],
   "source": [
    "#2. Create a program that takes a sentence from the user and counts the number of vowels (a, e, i, o, u) in the string.\n",
    "\n",
    "sentence = input(\"write a sentence:\")\n",
    "sentence = sentence.lower()\n",
    "\n",
    "# Initialize a variable to count vowels\n",
    "vowels_count = 0\n",
    "\n",
    "# Define a list of vowels\n",
    "vowels = ['a', 'e', 'i', 'o', 'u']\n",
    "\n",
    "# Iterate through each character in the input sentence\n",
    "for char in sentence:\n",
    "    if char in vowels:\n",
    "        vowels_count += 1\n",
    "\n",
    "# print the vowel count\n",
    "print(\"No. of vowels: \", vowels_count)\n"
   ]
  },
  {
   "cell_type": "code",
   "execution_count": 18,
   "id": "89316dda-73a3-4b09-a76e-e94e47aaaccf",
   "metadata": {},
   "outputs": [
    {
     "name": "stdout",
     "output_type": "stream",
     "text": [
      "tsitneics atad\n"
     ]
    }
   ],
   "source": [
    "#3. Given a string, reverse the order of characters using string slicing and print the reversed string.\n",
    "\n",
    "given_string = \"data scientist\"\n",
    "\n",
    "rev_string = given_string[-1::-1]\n",
    "\n",
    "print(rev_string)"
   ]
  },
  {
   "cell_type": "code",
   "execution_count": 32,
   "id": "e9a56f7b-87a3-41ba-8bfd-e169f5130b22",
   "metadata": {},
   "outputs": [
    {
     "name": "stdin",
     "output_type": "stream",
     "text": [
      "Enter a string:  mom dad mom\n"
     ]
    },
    {
     "name": "stdout",
     "output_type": "stream",
     "text": [
      "The string is a palindrome.\n"
     ]
    }
   ],
   "source": [
    "#4. Write a program that takes a string as input and checks if it is a palindrome (reads the same forwards and backwards).\n",
    "\n",
    "# Get input from the user\n",
    "input_string = input(\"Enter a string: \")\n",
    "\n",
    "# Convert the string to lowercase for case-insensitive comparison\n",
    "input_string = input_string.lower()\n",
    "\n",
    "# Remove spaces and punctuation from the string\n",
    "cleaned_string = ''.join(char for char in input_string if char.isalnum())\n",
    "\n",
    "# Check if the cleaned string is equal to its reverse\n",
    "if cleaned_string == cleaned_string[::-1]:\n",
    "    print(\"The string is a palindrome.\")\n",
    "else:\n",
    "    print(\"The string is not a palindrome.\")\n",
    "\n"
   ]
  },
  {
   "cell_type": "code",
   "execution_count": 33,
   "id": "ec420296-2c30-4b0f-a222-5a97179d70d7",
   "metadata": {},
   "outputs": [
    {
     "name": "stdin",
     "output_type": "stream",
     "text": [
      "Enter a string:  data scientist\n"
     ]
    },
    {
     "name": "stdout",
     "output_type": "stream",
     "text": [
      "modified string:  datascientist\n"
     ]
    }
   ],
   "source": [
    "#5. Create a program that takes a string as input and removes all the spaces from it. Print the modified string without spaces.\n",
    "\n",
    "input_string = input(\"Enter a string: \")\n",
    "\n",
    "modified_string = input_string.replace(\" \", \"\")\n",
    "\n",
    "print(\"modified string: \" , modified_string)"
   ]
  }
 ],
 "metadata": {
  "kernelspec": {
   "display_name": "Python 3 (ipykernel)",
   "language": "python",
   "name": "python3"
  },
  "language_info": {
   "codemirror_mode": {
    "name": "ipython",
    "version": 3
   },
   "file_extension": ".py",
   "mimetype": "text/x-python",
   "name": "python",
   "nbconvert_exporter": "python",
   "pygments_lexer": "ipython3",
   "version": "3.10.8"
  }
 },
 "nbformat": 4,
 "nbformat_minor": 5
}
